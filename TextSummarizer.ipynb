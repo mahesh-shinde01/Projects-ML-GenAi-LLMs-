{
 "cells": [
  {
   "cell_type": "code",
   "execution_count": 1,
   "id": "8e7378d4-7ef1-4e33-bed4-793d6ee2d6f7",
   "metadata": {},
   "outputs": [
    {
     "name": "stdout",
     "output_type": "stream",
     "text": [
      "Requirement already satisfied: pip in c:\\users\\mahesh\\anaconda3\\lib\\site-packages (25.2)Note: you may need to restart the kernel to use updated packages.\n",
      "\n",
      "Requirement already satisfied: setuptools in c:\\users\\mahesh\\anaconda3\\lib\\site-packages (80.9.0)\n",
      "Requirement already satisfied: wheel in c:\\users\\mahesh\\anaconda3\\lib\\site-packages (0.45.1)\n"
     ]
    },
    {
     "name": "stderr",
     "output_type": "stream",
     "text": [
      "WARNING: Ignoring invalid distribution ~ip (C:\\Users\\MAHESH\\anaconda3\\Lib\\site-packages)\n",
      "WARNING: Ignoring invalid distribution ~ip (C:\\Users\\MAHESH\\anaconda3\\Lib\\site-packages)\n",
      "WARNING: Ignoring invalid distribution ~ip (C:\\Users\\MAHESH\\anaconda3\\Lib\\site-packages)\n"
     ]
    }
   ],
   "source": [
    "pip install --upgrade pip setuptools wheel"
   ]
  },
  {
   "cell_type": "code",
   "execution_count": 3,
   "id": "6d84a4cc-933c-4085-b54d-29ecf42bbabb",
   "metadata": {},
   "outputs": [
    {
     "name": "stdout",
     "output_type": "stream",
     "text": [
      "Requirement already satisfied: transformers in c:\\users\\mahesh\\anaconda3\\lib\\site-packages (4.56.2)\n",
      "Requirement already satisfied: accelerate in c:\\users\\mahesh\\anaconda3\\lib\\site-packages (1.10.1)\n",
      "Requirement already satisfied: filelock in c:\\users\\mahesh\\anaconda3\\lib\\site-packages (from transformers) (3.13.1)\n",
      "Requirement already satisfied: huggingface-hub<1.0,>=0.34.0 in c:\\users\\mahesh\\anaconda3\\lib\\site-packages (from transformers) (0.35.1)\n",
      "Requirement already satisfied: numpy>=1.17 in c:\\users\\mahesh\\anaconda3\\lib\\site-packages (from transformers) (1.26.4)\n",
      "Requirement already satisfied: packaging>=20.0 in c:\\users\\mahesh\\anaconda3\\lib\\site-packages (from transformers) (24.1)\n",
      "Requirement already satisfied: pyyaml>=5.1 in c:\\users\\mahesh\\anaconda3\\lib\\site-packages (from transformers) (6.0.1)\n",
      "Requirement already satisfied: regex!=2019.12.17 in c:\\users\\mahesh\\anaconda3\\lib\\site-packages (from transformers) (2024.9.11)\n",
      "Requirement already satisfied: requests in c:\\users\\mahesh\\anaconda3\\lib\\site-packages (from transformers) (2.32.3)\n",
      "Requirement already satisfied: tokenizers<=0.23.0,>=0.22.0 in c:\\users\\mahesh\\anaconda3\\lib\\site-packages (from transformers) (0.22.1)\n",
      "Requirement already satisfied: safetensors>=0.4.3 in c:\\users\\mahesh\\anaconda3\\lib\\site-packages (from transformers) (0.6.2)\n",
      "Requirement already satisfied: tqdm>=4.27 in c:\\users\\mahesh\\anaconda3\\lib\\site-packages (from transformers) (4.66.5)\n",
      "Requirement already satisfied: fsspec>=2023.5.0 in c:\\users\\mahesh\\anaconda3\\lib\\site-packages (from huggingface-hub<1.0,>=0.34.0->transformers) (2024.6.1)\n",
      "Requirement already satisfied: typing-extensions>=3.7.4.3 in c:\\users\\mahesh\\anaconda3\\lib\\site-packages (from huggingface-hub<1.0,>=0.34.0->transformers) (4.11.0)\n",
      "Requirement already satisfied: psutil in c:\\users\\mahesh\\anaconda3\\lib\\site-packages (from accelerate) (5.9.0)\n",
      "Requirement already satisfied: torch>=2.0.0 in c:\\users\\mahesh\\anaconda3\\lib\\site-packages (from accelerate) (2.8.0)\n",
      "Requirement already satisfied: sympy>=1.13.3 in c:\\users\\mahesh\\anaconda3\\lib\\site-packages (from torch>=2.0.0->accelerate) (1.14.0)\n",
      "Requirement already satisfied: networkx in c:\\users\\mahesh\\anaconda3\\lib\\site-packages (from torch>=2.0.0->accelerate) (3.3)\n",
      "Requirement already satisfied: jinja2 in c:\\users\\mahesh\\anaconda3\\lib\\site-packages (from torch>=2.0.0->accelerate) (3.1.4)\n",
      "Requirement already satisfied: setuptools in c:\\users\\mahesh\\anaconda3\\lib\\site-packages (from torch>=2.0.0->accelerate) (80.9.0)\n",
      "Requirement already satisfied: mpmath<1.4,>=1.1.0 in c:\\users\\mahesh\\anaconda3\\lib\\site-packages (from sympy>=1.13.3->torch>=2.0.0->accelerate) (1.3.0)\n",
      "Requirement already satisfied: colorama in c:\\users\\mahesh\\anaconda3\\lib\\site-packages (from tqdm>=4.27->transformers) (0.4.6)\n",
      "Requirement already satisfied: MarkupSafe>=2.0 in c:\\users\\mahesh\\anaconda3\\lib\\site-packages (from jinja2->torch>=2.0.0->accelerate) (2.1.3)\n",
      "Requirement already satisfied: charset-normalizer<4,>=2 in c:\\users\\mahesh\\anaconda3\\lib\\site-packages (from requests->transformers) (3.3.2)\n",
      "Requirement already satisfied: idna<4,>=2.5 in c:\\users\\mahesh\\anaconda3\\lib\\site-packages (from requests->transformers) (3.7)\n",
      "Requirement already satisfied: urllib3<3,>=1.21.1 in c:\\users\\mahesh\\anaconda3\\lib\\site-packages (from requests->transformers) (2.2.3)\n",
      "Requirement already satisfied: certifi>=2017.4.17 in c:\\users\\mahesh\\anaconda3\\lib\\site-packages (from requests->transformers) (2025.6.15)\n",
      "Note: you may need to restart the kernel to use updated packages.\n"
     ]
    },
    {
     "name": "stderr",
     "output_type": "stream",
     "text": [
      "WARNING: Ignoring invalid distribution ~ip (C:\\Users\\MAHESH\\anaconda3\\Lib\\site-packages)\n",
      "WARNING: Ignoring invalid distribution ~ip (C:\\Users\\MAHESH\\anaconda3\\Lib\\site-packages)\n",
      "WARNING: Ignoring invalid distribution ~ip (C:\\Users\\MAHESH\\anaconda3\\Lib\\site-packages)\n"
     ]
    }
   ],
   "source": [
    "pip install transformers accelerate"
   ]
  },
  {
   "cell_type": "code",
   "execution_count": 5,
   "id": "a6f95fd8-ca0d-434a-acd0-c1ba5bbe80de",
   "metadata": {},
   "outputs": [
    {
     "name": "stdout",
     "output_type": "stream",
     "text": [
      "Requirement already satisfied: PyPDF2 in c:\\users\\mahesh\\anaconda3\\lib\\site-packages (3.0.1)\n",
      "Note: you may need to restart the kernel to use updated packages.\n"
     ]
    },
    {
     "name": "stderr",
     "output_type": "stream",
     "text": [
      "WARNING: Ignoring invalid distribution ~ip (C:\\Users\\MAHESH\\anaconda3\\Lib\\site-packages)\n",
      "WARNING: Ignoring invalid distribution ~ip (C:\\Users\\MAHESH\\anaconda3\\Lib\\site-packages)\n",
      "WARNING: Ignoring invalid distribution ~ip (C:\\Users\\MAHESH\\anaconda3\\Lib\\site-packages)\n"
     ]
    }
   ],
   "source": [
    "pip install PyPDF2"
   ]
  },
  {
   "cell_type": "code",
   "execution_count": 7,
   "id": "cc16e155-eff6-4f99-a9cb-0ead7ac926b5",
   "metadata": {},
   "outputs": [
    {
     "name": "stdout",
     "output_type": "stream",
     "text": [
      "I the undersigned declare, confirm and agree as folows: 1. Al the particulars/details filed \n",
      "in/provided during the journey of opening the InstaSave account (Particulars) have been \n",
      "entered by me/us. I verify and confirm that al the information and Particulars \n",
      "entered/recorded by me are true and correct and I have not withheld any information \n",
      "required for opening the Sav ings Account. 2. The Particulars read along with the Terms \n",
      "(hereinafter defined) shal together constitute the Savings Account opening documents and \n",
      "shal be referred to as “electronic application form” or “EAF”. 3. I understand that my Savings \n",
      "Account openi ng request is subject to verification and if any discrepancy in the information/ \n",
      "documentation provided is noted as per the Bank policy and/or applicable law, the Bank has \n",
      "a right to reject the EAF, account opening request and/or close/freeze my Savings Ac count \n",
      "and retain the Savings Account opening documents. 4. I agree and undertake to provide any \n",
      "further information that ICICI Bank /its affiliates may require from time to time and I further \n",
      "agree that any false/misleading information, suppression of any material fact by me wil \n",
      "render my Savings Account liable for closure and any further action as the Bank considers \n",
      "necessary. 5. I do not have any insolvency, bankruptcy or liquidation proceedings initiated \n",
      "against me nor have I ever been adjudicated insolv ent/bankrupt; I have not defaulted under \n",
      "any loan/facility availed by me from any bank/ institution. 6. I have read and understood the \n",
      "requirement of maintaining minimum Monthly Average Balance (“MAB”) and have \n",
      "understood that non -maintenance of MAB wil att ract applicable charges. A copy of such \n",
      "charges, tariff guidelines/ schedule of charges have been shared with me along with this EAF. \n",
      "I have understood the charges applicable to the Savings Account variant opted by me/us. \n",
      "The Bank shal have a right to deb it my Savings Account, for charges as applicable pertaining \n",
      "to the Savings Account and related services availed by me. 7. I am/are aware and understand \n",
      "that in addition to the terms and conditions stated in this EAF, the Savings Account shal also \n",
      "be govern ed by the terms and conditions governing online savings account along with \n",
      "attachment products availed by me (“InstaSave Terms”), terms and conditions governing \n",
      "Retail Internet Banking and Mobile Banking, terms and conditions for Debit Cards, terms and \n",
      "conditions for such other services/products available and availed by the Customer in relation \n",
      "to the Savings Account (together referred to as “Additional Terms”) displayed on ICICI Bank’s \n",
      "website (“Website”). I am further aware that the terms contained in thi s EAF, InstaSave \n",
      "Terms and Additional Terms (together referred to as “Terms”) may be modified and updated \n",
      "by ICICI Bank from time to time. I have read, understood and agree to abide by the Terms, \n",
      "InstaSave Terms, Additional Terms including but not limited to the updated terms and \n",
      "conditions as available on the Website. 8. I hereby consent to receive and authorize the Bank \n",
      "and its affiliates/ group companies to reach me/send any communication pertaining to my \n",
      "Savings Account and related services/facilities/s pecial offers, or any other relationship held \n",
      "by me with the Bank, or in relation to various products, offers and services provided by ICICI \n",
      "Bank /its group companies, through registered e -mail, phone, SMS, WhatsApp messaging, or \n",
      "any other electronic mode or other messaging or social media platforms. ICICI Bank wil be \n",
      "sending One Time Pin (OTP) on the abovementioned mobile number. This consent wil \n",
      "override any registration for DND/DNC registered with ICICI Bank with respect to InstaSave \n",
      "Account/any other relationship with ICICI Bank and any other services/facilities/offers \n",
      "offered by ICICI Bank. I understand and agree that the email provider /WhatsApp or any \n",
      "other service provider can review/monitor the contents shared/communicated throug h \n",
      "email provider/WhatsApp or other service provider. I understand that such electronic mode \n",
      "of communication(s) are subject to the terms and conditions of the respective service \n",
      "provider and agree to comply with the terms of use of email/WhatsApp, SMS, or any other \n",
      "electronic mode, as applicable and updated/modified by the service provider from time to \n",
      "time. 9. I authorize ICICI Bank to share my personal information provided herein to credit \n",
      "rating agencies to receive/extract credit information/score for un derstanding my financial \n",
      "profile for the purpose of Savings Account opening and for offering various products and \n",
      "services by ICICI Bank. 10.I hereby authorise the Bank to issue ICICI Bank debit card and \n",
      "enable provisions of internet banking, phone banking  and mobile banking services governed \n",
      "by the Terms and I agree to abide by the same. I authorize ICICI Bank to share my personal \n",
      "information provided herein to service providers/credit rating agencies or any such person \n",
      "with whom ICICI Bank contracts or pr oposes to contract on a confidential basis to \n",
      "receive/extract financial/credit information or for understanding my financial profile for the \n",
      "purpose of opening the InstaSave Account and for offering various products and services by \n",
      "ICICI Bank. 11.I agree t o hold ICICI Bank, its directors and employees, representatives, \n",
      "agents, indemnified against al direct or indirect actions, suits, proceedings, claims, demands, \n",
      "arising from (a) any act or omission by the Bank due to any instructions given by me or from \n",
      "any person(s) purported to have been authorised by me (including but not limited to \n",
      "instructions via phone, fax, email, SMS, WhatsApp and other telecommunications or \n",
      "electronic instructions) or; (b) any misrepresentation, breach of any terms and conditions, \n",
      "declarations, contained in this EAF/Terms or (c) any fraud, negligence or misconduct by me. \n",
      "The indemnity stated herein shal be in addition to and not in derogation of any other \n",
      "indemnity obligation undertaken by me whether stipulated in the EAF or Terms o r \n",
      "otherwise. 12.I hereby agree and authorize the Bank to reverse any wrongful/ erroneous \n",
      "credit given to my Savings Account and/or to reverse any such amounts of which I am not \n",
      "the intended recipient. I undertake not to hold the Bank or its agents/ represe ntative liable \n",
      "(in any manner whatsoever) for any such reversal made to my Savings Account at any point \n",
      "in time. 13.Disclosure/Consent: I hereby expressly authorise and give consent to the Bank to \n",
      "colect, store, share, exchange, disclose, transfer, or part  with any of my Savings Account \n",
      "information or personal data or any other data/details (including but not limited to \n",
      "information with respect to Cheque bounce/failure to honour ECS/NACH \n",
      "mandate/insufficiency of balance maintained/auto debit mandate), conta ined in the EAF, or \n",
      "relating to and/or otherwise provided to/ available with the Bank in relation of the my \n",
      "Savings Account maintained with the Bank, when the Bank considers such disclosure as \n",
      "necessary or expedient, with: a) Employees or agents of the Ban k, group entities, \n",
      "subsidiaries, branches (including overseas branches) in any jurisdiction; b) Auditors, any \n",
      "agencies/credit rating agencies/credit bureaus, any court or tribunal or any statutory, \n",
      "regulatory, judicial, governmental or administrative autho rity, Central KYC registry, SEBI \n",
      "Know your client registration agency having jurisdiction over the Bank or its group entities / \n",
      "subsidiaries/branches, DigiLocker agencies; c) Service providers or any such person with \n",
      "whom the Bank contracts or proposes to contract in relation to the provi sion of services in \n",
      "respect of the Savings Account or facilities; For the purpose: (i) of compliance with \n",
      "applicable laws or any order (judicial or otherwise), statutory or regulatory requirement to \n",
      "which the Bank, its subsidiaries or any it’s branches are  subject to; or ( i) of facilitating \n",
      "banking transactions through any medium (whether through internet banking, phone \n",
      "banking, mobile banking, (including through WhatsApp or otherwise) or ( i) disclosures for \n",
      "review of any account, assets or service or any  credit facilities received/ availed/ by you from \n",
      "the Bank (whether singly or jointly or otherwise); or (iv) for authentication or verification \n",
      "purposes, or (v) research or analytical purposes, credit reporting, credit scoring, risk \n",
      "management, anti money laundering checks, data managements services, participation in \n",
      "any telecommunication; or vi) to design financial services and to offer an enhanced, \n",
      "personalized online experience on the Website and third party websites or otherwise. (v i) \n",
      "for enabling regi stration/verification/ offering of any products or any investments to be \n",
      "made by me/us with Bank’s group companies. (v i) for the purposes of confirming or \n",
      "investigating the content of the account opening request. (ix) marketing and offering various \n",
      "produc ts/services of ICICI Bank or its group companies, subsidiaries, affiliates and/or \n",
      "associates. 14.I hereby consent to receive information from Central KYC Registry as required \n",
      "by Central Registry of Securitisation Asset Reconstruction and Security interest of India \n",
      "(CERSAl) through SMS/ email on the registered mobile number/ email address respectively. \n",
      "15.I authorise ICICI Bank to send al correspondence to the above mentioned communication \n",
      "address and shal indemnify ICICI Bank for any loss/ damage/ liability  due to any \n",
      "communication being sent on the communication address updated by me. I undertake to \n",
      "provide/inform the Bank of any change to the KYC documents provided by me/us, including \n",
      "change in communication address and I authorise the Bank to update the s ame in their \n",
      "records. 16.In case of any unauthorized electronic transactions in the Savings Account, the \n",
      "Customer’s and/or the Banks liability wil be determined as per the board approved policy of \n",
      "the Bank which is available on the Website. 17.I/we agree a nd understand that in the event \n",
      "of having multiple Customer IDs with the Bank, the Bank reserves the right to consolidate \n",
      "the Customer IDs as it may decide, without any prior notice to me/us. 18.If for any reason \n",
      "whatsoever, the Savings Account is overdraw n/has debit balance, I agree and undertake to \n",
      "repay such amounts along with interest and other amounts in accordance with the Banks \n",
      "prevalent rate/s and practice. I hereby further undertake to service/fulfil any \n",
      "payment/repayment obligations pursuant to an y loan/credit facility(ies) availed by me, \n",
      "either via internet banking or otherwise and disbursed to my Savings Account maintained \n",
      "with the Bank in accordance with the applicable terms and conditions. 19.I confirm that I \n",
      "have not opened any account nor sha l open any other account with ICICI Bank or any other \n",
      "bank/Regulated Entity (as defined in Reserve Bank of India (“RBI”) Master Direction - Know \n",
      "Your Customer (“KYC”) Direction, 2016, as updated from time to time using the OTP based e -\n",
      "KYC mode. 20.I have no ted and understood the limitations of the Savings Account so opened \n",
      "using OTP based e -KYC including credit and debit restrictions and that the Savings Account \n",
      "opened through OTP based e -KYC shal be closed immediately if physical completion of KYC \n",
      "verification and/or customer due diligence is not completed because of any re ason \n",
      "whatsoever within one (1) year from the date of opening the Savings Account (Applicable if \n",
      "Video KYC process is not completed). 21.For InstaSave Salary Account (If Applicable): a. I \n",
      "agree that my employer has ful right to reverse any instruction given  by them to credit my \n",
      "Savings Account for any amount and I wil not dispute or hold the Bank responsible for any \n",
      "such debits in my Savings Account. b. I authorise ICICI Bank to share any Savings Account \n",
      "related information and/or personal data with my emplo yer/ sourcing partner for the \n",
      "purpose of processing my InstaSave Salary Account opening request (Applicable for \n",
      "InstaSave Salary Account opened basis specific corporate/ sourcing partner tie up). 22. \n",
      "Aadhaar Consent a. I hereby provide my voluntary consent  to ICICI Bank to use the Aadhaar \n",
      "details provided by me for authentication and agree to the terms and conditions related to \n",
      "Aadhaar consent and updation. b. I am aware that there are various alternate options \n",
      "provided by ICICI Bank (“Bank”) for establishi ng my identity/address proof for opening a \n",
      "Savings Account and agree and confirm that for opening the online InstaSave Account \n",
      "variant i.e the InstaSave Account, I have voluntarily submitted my Aadhaar number to the \n",
      "Bank and hereby give my consent to the B ank: - (i) to establish my identity / address proof \n",
      "and verify my mobile number by Aadhaar based authentication system through biometric \n",
      "and/or One Time Pin (OTP) and/or Yes/No authentication and/or any other authentication \n",
      "mechanism) independently or verif y the genuineness of the Aadhaar through Quick \n",
      "Response (QR) code or through such other manner as set out by UIDAI or any other law from \n",
      "time to time; (i) share my Aadhaar detail with UIDAI, NPCI, concerned regulatory or statutory \n",
      "authorities as any be req uired under applicable laws. ( i) to colect, store and use the Aadhaar \n",
      "details for the aforesaid purpose(s) and update my mobile number registered with UIDAI in \n",
      "the bank records for sending SMS alerts/other communications to me. c. I hereby also agree \n",
      "with  the below terms pertaining to Aadhaar based authentication/verification: 1. I have \n",
      "been informed that: (a) upon authentication, UIDAI may share with ICICI Bank information in \n",
      "nature of my demographic information including photograph, mobile number which I CICI \n",
      "Bank may use as an identity/address proof for the purpose of account opening;(b) my \n",
      "Aadhaar details (including my demographic information) shared by UIDAI wil not be used for \n",
      "any purpose other than the purpose mentioned above or as per requirements of  law; (c) my \n",
      "biometric information wil not be stored by the Bank. 2. I hereby declare that al the above \n",
      "information voluntarily furnished by me is true, correct and complete in al respects. 3. I \n",
      "understand that ICICI Bank shal be relying upon the informati on received from UIDAI for \n",
      "processing my InstaSave Account opening formalities. 23.“I hereby authorize and consent to \n",
      "ICICI Bank to share or part with any/al information received from UIDAI such as my name, \n",
      "date of birth etc. with third party vendor(s) in order to facilitate the electronic execution of \n",
      "the documents (including verification of the e -sign) for availing the Services from ICICI Bank \n",
      "and l shal not hold ICICI Bank liable for the use of such information. I understand that to affix  \n",
      "\n"
     ]
    }
   ],
   "source": [
    "from PyPDF2 import PdfReader\n",
    "\n",
    "def text_from_pdf(file_path):\n",
    "    reader = PdfReader(file_path)\n",
    "    text = \"\"\n",
    "    for page in reader.pages:\n",
    "        text += page.extract_text() + \"\\n\"\n",
    "    return text\n",
    "    \n",
    "        \n",
    "path = \"TempDocs.pdf\"\n",
    "pdf_data = text_from_pdf(path)\n",
    "print(pdf_data)"
   ]
  },
  {
   "cell_type": "code",
   "execution_count": 9,
   "id": "14e17ca9-f5d6-4dfb-8ca0-ebf6353948dc",
   "metadata": {},
   "outputs": [
    {
     "name": "stdout",
     "output_type": "stream",
     "text": [
      "15\n",
      "I the undersigned declare, confirm and agree as folows: 1. Al the particulars/details filed \n",
      "in/provided during the journey of opening the InstaSave account (Particulars) have been \n",
      "entered by me/us. I verify and confirm that al the information and Particulars \n",
      "entered/recorded by me are true and correct and I have not withheld any information \n",
      "required for opening the Sav ings Account. 2. The Particulars read along with the Terms \n",
      "(hereinafter defined) shal together constitute the Savings Accou\n"
     ]
    }
   ],
   "source": [
    "#chunking\n",
    "chunks = [pdf_data[i:i+500] for i in range(0,len(pdf_data),1000)]\n",
    "print(len(chunks))\n",
    "print(chunks[0])"
   ]
  },
  {
   "cell_type": "code",
   "execution_count": 11,
   "id": "ac4b18fd-0a2c-4575-a0a1-dd43b58bd87e",
   "metadata": {},
   "outputs": [
    {
     "name": "stdout",
     "output_type": "stream",
     "text": [
      "Requirement already satisfied: requests in c:\\users\\mahesh\\appdata\\local\\programs\\python\\python310\\lib\\site-packages (2.32.3)\n",
      "Requirement already satisfied: charset-normalizer<4,>=2 in c:\\users\\mahesh\\appdata\\local\\programs\\python\\python310\\lib\\site-packages (from requests) (3.3.2)\n",
      "Requirement already satisfied: idna<4,>=2.5 in c:\\users\\mahesh\\appdata\\local\\programs\\python\\python310\\lib\\site-packages (from requests) (3.7)\n",
      "Requirement already satisfied: urllib3<3,>=1.21.1 in c:\\users\\mahesh\\appdata\\local\\programs\\python\\python310\\lib\\site-packages (from requests) (2.2.1)\n",
      "Requirement already satisfied: certifi>=2017.4.17 in c:\\users\\mahesh\\appdata\\local\\programs\\python\\python310\\lib\\site-packages (from requests) (2024.6.2)\n"
     ]
    },
    {
     "name": "stderr",
     "output_type": "stream",
     "text": [
      "\n",
      "[notice] A new release of pip is available: 24.3.1 -> 25.2\n",
      "[notice] To update, run: C:\\Users\\MAHESH\\AppData\\Local\\Programs\\Python\\Python310\\python.exe -m pip install --upgrade pip\n"
     ]
    }
   ],
   "source": [
    "!pip install requests"
   ]
  },
  {
   "cell_type": "code",
   "execution_count": 15,
   "id": "b86d66d8-8c97-46cc-b5df-2b85a3bda894",
   "metadata": {},
   "outputs": [],
   "source": [
    "def call_ollama(prompt,model=\"gemma3\"):\n",
    "    url = \"http://localhost:11434/api/generate\"\n",
    "    payload = {\n",
    "        \"model\":model,\n",
    "        \"prompt\":prompt,\n",
    "        \"temprature\":0.0,\n",
    "        \"stream\":False\n",
    "    }\n",
    "    response = requests.post(url,json=payload)\n",
    "    data = response.json()\n",
    "    return data[\"response\"]"
   ]
  },
  {
   "cell_type": "code",
   "execution_count": 17,
   "id": "1cbd7782-0142-47c2-a647-e1c14cd6e353",
   "metadata": {},
   "outputs": [],
   "source": [
    "import requests\n",
    "summaries = []\n",
    "for idx, chunk in enumerate(chunks):\n",
    "    prompt = f\"Summarize the text into 50 words\\n\\n{chunk}\"\n",
    "    summary = call_ollama(prompt)\n",
    "    summaries.append({\n",
    "        \"chunk_id\":idx+1,\n",
    "        \"instruction\":f\"Summarize the text in the part{idx+1}\",\n",
    "        \"input\":chunk,\n",
    "        \"output\":f\"Summary of the part{idx+1}: {summary} \" \n",
    "    })\n"
   ]
  },
  {
   "cell_type": "code",
   "execution_count": 19,
   "id": "e0e96f66-99e0-411f-b10c-0eb68566fa1a",
   "metadata": {},
   "outputs": [
    {
     "name": "stdout",
     "output_type": "stream",
     "text": [
      "15\n"
     ]
    }
   ],
   "source": [
    "print(len(summaries))"
   ]
  },
  {
   "cell_type": "code",
   "execution_count": 21,
   "id": "a8fdc24a-99ab-40bd-b93d-ef8be3edba73",
   "metadata": {},
   "outputs": [],
   "source": [
    "import json\n",
    "import os\n",
    "with open(\"ReqDocs.json\",\"w\",encoding=\"utf-8\") as f:\n",
    "    for item in summaries:\n",
    "        f.write(json.dumps(item,ensure_ascii=False)+\"\\n\")\n",
    "    "
   ]
  },
  {
   "cell_type": "code",
   "execution_count": 23,
   "id": "f6091f05-fc39-445b-bacf-bea1d170f3c3",
   "metadata": {},
   "outputs": [
    {
     "name": "stdout",
     "output_type": "stream",
     "text": [
      "✅ PyTorch Dataset ready. Number of samples: 15\n"
     ]
    }
   ],
   "source": [
    "from torch.utils.data import Dataset\n",
    "from transformers import AutoTokenizer\n",
    "\n",
    "tokenizer = AutoTokenizer.from_pretrained(\"google/flan-t5-small\")\n",
    "\n",
    "class PDFDataset(Dataset):\n",
    "    def __init__(self,data,tokenizer,max_input_length=1024,max_output_length=128):\n",
    "        self.data = data\n",
    "        self.tokenizer = tokenizer\n",
    "        self.max_input_length = max_input_length\n",
    "        self.max_output_length = max_output_length\n",
    "\n",
    "    def __len__(self):\n",
    "        return len(self.data)\n",
    "\n",
    "    def __getitem__(self,idx):\n",
    "        item = self.data[idx]\n",
    "        inputs = self.tokenizer(\n",
    "            item['instruction'] + \"\\n\" + item[\"input\"],\n",
    "            truncation = True,\n",
    "            padding = \"max_length\",\n",
    "            max_length = self.max_input_length,\n",
    "            return_tensors = \"pt\"\n",
    "        )\n",
    "        outputs = self.tokenizer(\n",
    "            item[\"output\"],\n",
    "            truncation=True,\n",
    "            padding=\"max_length\",\n",
    "            max_length=self.max_output_length,\n",
    "            return_tensors=\"pt\"\n",
    "        )\n",
    "        return {\n",
    "            \"input_ids\": inputs.input_ids.squeeze(),\n",
    "            \"attention_mask\": inputs.attention_mask.squeeze(),\n",
    "            \"labels\": outputs.input_ids.squeeze()\n",
    "        }\n",
    "\n",
    "        \n",
    "pdf_dataset = PDFDataset(summaries, tokenizer)\n",
    "print(\"✅ PyTorch Dataset ready. Number of samples:\", len(pdf_dataset))\n"
   ]
  },
  {
   "cell_type": "code",
   "execution_count": 25,
   "id": "f475b992-a3ac-4810-aa3b-1c736ce49191",
   "metadata": {},
   "outputs": [
    {
     "name": "stdout",
     "output_type": "stream",
     "text": [
      "[{'chunk_id': 1, 'instruction': 'Summarize the text in the part1', 'input': 'I the undersigned declare, confirm and agree as folows: 1. Al the particulars/details filed \\nin/provided during the journey of opening the InstaSave account (Particulars) have been \\nentered by me/us. I verify and confirm that al the information and Particulars \\nentered/recorded by me are true and correct and I have not withheld any information \\nrequired for opening the Sav ings Account. 2. The Particulars read along with the Terms \\n(hereinafter defined) shal together constitute the Savings Accou', 'output': 'Summary of the part1: Here’s a 50-word summary of the text:\\n\\nThis document confirms the accuracy of information provided during the opening of an InstaSave account. The signatory affirms all details entered are true, complete, and not withheld. The provided particulars, alongside the account’s terms, collectively form the agreement for the savings account. '}, {'chunk_id': 2, 'instruction': 'Summarize the text in the part2', 'input': ' information that ICICI Bank /its affiliates may require from time to time and I further \\nagree that any false/misleading information, suppression of any material fact by me wil \\nrender my Savings Account liable for closure and any further action as the Bank considers \\nnecessary. 5. I do not have any insolvency, bankruptcy or liquidation proceedings initiated \\nagainst me nor have I ever been adjudicated insolv ent/bankrupt; I have not defaulted under \\nany loan/facility availed by me from any ban', 'output': 'Summary of the part2: Here’s a 50-word summary of the text:\\n\\nThis agreement outlines potential account closure if false information is provided or material facts are concealed by the account holder. It also confirms the account holder has no outstanding insolvency, bankruptcy, or loan defaults, ensuring compliance with ICICI Bank’s policies. '}, {'chunk_id': 3, 'instruction': 'Summarize the text in the part3', 'input': 'he Savings Account and related services availed by me. 7. I am/are aware and understand \\nthat in addition to the terms and conditions stated in this EAF, the Savings Account shal also \\nbe govern ed by the terms and conditions governing online savings account along with \\nattachment products availed by me (“InstaSave Terms”), terms and conditions governing \\nRetail Internet Banking and Mobile Banking, terms and conditions for Debit Cards, terms and \\nconditions for such other services/products avail', 'output': 'Summary of the part3: This document confirms the Savings Account is governed by several terms beyond the EAF itself. It includes the “InstaSave Terms,” Retail Internet Banking, Mobile Banking, Debit Card terms, and any other services/products utilized alongside the account. '}, {'chunk_id': 4, 'instruction': 'Summarize the text in the part4', 'input': 'nditions as available on the Website. 8. I hereby consent to receive and authorize the Bank \\nand its affiliates/ group companies to reach me/send any communication pertaining to my \\nSavings Account and related services/facilities/s pecial offers, or any other relationship held \\nby me with the Bank, or in relation to various products, offers and services provided by ICICI \\nBank /its group companies, through registered e -mail, phone, SMS, WhatsApp messaging, or \\nany other electronic mode or other', 'output': 'Summary of the part4: Here’s a 50-word summary of the text:\\n\\nThis consent allows ICICI Bank and its affiliates to contact you regarding your savings account and related services. Communication can occur via email, SMS, phone, WhatsApp, or other electronic channels to inform you of offers and services. '}, {'chunk_id': 5, 'instruction': 'Summarize the text in the part5', 'input': 'rovider/WhatsApp or other service provider. I understand that such electronic mode \\nof communication(s) are subject to the terms and conditions of the respective service \\nprovider and agree to comply with the terms of use of email/WhatsApp, SMS, or any other \\nelectronic mode, as applicable and updated/modified by the service provider from time to \\ntime. 9. I authorize ICICI Bank to share my personal information provided herein to credit \\nrating agencies to receive/extract credit information/scor', 'output': 'Summary of the part5: Here’s a 50-word summary of the text:\\n\\nThis statement confirms the user’s agreement to utilize electronic communication channels (like WhatsApp) governed by their provider’s terms. They authorize ICICI Bank to share personal information with credit rating agencies for credit information updates, aligning with the service provider’s evolving terms. '}, {'chunk_id': 6, 'instruction': 'Summarize the text in the part6', 'input': 'm ICICI Bank contracts or pr oposes to contract on a confidential basis to \\nreceive/extract financial/credit information or for understanding my financial profile for the \\npurpose of opening the InstaSave Account and for offering various products and services by \\nICICI Bank. 11.I agree t o hold ICICI Bank, its directors and employees, representatives, \\nagents, indemnified against al direct or indirect actions, suits, proceedings, claims, demands, \\narising from (a) any act or omission by the Bank', 'output': 'Summary of the part6: Here’s a 50-word summary of the text:\\n\\nThis agreement allows ICICI Bank to request and analyze your financial information to open the InstaSave Account and offer services. You agree to protect ICICI Bank from any legal claims arising from their activities related to this process. '}, {'chunk_id': 7, 'instruction': 'Summarize the text in the part7', 'input': 'igation undertaken by me whether stipulated in the EAF or Terms o r \\notherwise. 12.I hereby agree and authorize the Bank to reverse any wrongful/ erroneous \\ncredit given to my Savings Account and/or to reverse any such amounts of which I am not \\nthe intended recipient. I undertake not to hold the Bank or its agents/ represe ntative liable \\n(in any manner whatsoever) for any such reversal made to my Savings Account at any point \\nin time. 13.Disclosure/Consent: I hereby expressly authorise and giv', 'output': 'Summary of the part7: Here’s a 50-word summary of the text:\\n\\nThis agreement grants the bank permission to reverse incorrect credits to the account holder’s savings account. The account holder consents to this reversal and releases the bank from any liability related to these corrections, regardless of the circumstances. '}, {'chunk_id': 8, 'instruction': 'Summarize the text in the part8', 'input': 'en the Bank considers such disclosure as \\nnecessary or expedient, with: a) Employees or agents of the Ban k, group entities, \\nsubsidiaries, branches (including overseas branches) in any jurisdiction; b) Auditors, any \\nagencies/credit rating agencies/credit bureaus, any court or tribunal or any statutory, \\nregulatory, judicial, governmental or administrative autho rity, Central KYC registry, SEBI \\nKnow your client registration agency having jurisdiction over the Bank or its group entities / \\nsubs', 'output': \"Summary of the part8: Here's a 50-word summary of the text:\\n\\nThe Bank is authorized to disclose information to its employees, agents, auditors, regulatory bodies (like SEBI and Central KYC), and any court or tribunal. This disclosure is deemed necessary or expedient by the Bank. \"}, {'chunk_id': 9, 'instruction': 'Summarize the text in the part9', 'input': 'ether through internet banking, phone \\nbanking, mobile banking, (including through WhatsApp or otherwise) or ( i) disclosures for \\nreview of any account, assets or service or any  credit facilities received/ availed/ by you from \\nthe Bank (whether singly or jointly or otherwise); or (iv) for authentication or verification \\npurposes, or (v) research or analytical purposes, credit reporting, credit scoring, risk \\nmanagement, anti money laundering checks, data managements services, participation in', 'output': 'Summary of the part9: Here’s a 50-word summary of the text:\\n\\nThe text outlines various methods for banks to access customer data, including online banking, mobile apps, and communication platforms. This data is used for account reviews, authentication, credit reporting, risk management, and anti-money laundering compliance. '}, {'chunk_id': 10, 'instruction': 'Summarize the text in the part10', 'input': 'panies, subsidiaries, affiliates and/or \\nassociates. 14.I hereby consent to receive information from Central KYC Registry as required \\nby Central Registry of Securitisation Asset Reconstruction and Security interest of India \\n(CERSAl) through SMS/ email on the registered mobile number/ email address respectively. \\n15.I authorise ICICI Bank to send al correspondence to the above mentioned communication \\naddress and shal indemnify ICICI Bank for any loss/ damage/ liability  due to any \\ncommunicati', 'output': 'Summary of the part10: This document outlines consent for receiving Central KYC Registry information via SMS/email from ICICI Bank. It authorizes the bank to communicate using registered details and includes an indemnity clause, protecting ICICI Bank from potential losses or liabilities arising from communication. '}, {'chunk_id': 11, 'instruction': 'Summarize the text in the part11', 'input': 'nderstand that in the event \\nof having multiple Customer IDs with the Bank, the Bank reserves the right to consolidate \\nthe Customer IDs as it may decide, without any prior notice to me/us. 18.If for any reason \\nwhatsoever, the Savings Account is overdraw n/has debit balance, I agree and undertake to \\nrepay such amounts along with interest and other amounts in accordance with the Banks \\nprevalent rate/s and practice. I hereby further undertake to service/fulfil any \\npayment/repayment obligations', 'output': 'Summary of the part11: Here’s a 50-word summary of the text:\\n\\nThe bank reserves the right to combine customer IDs if multiple exist, with no prior notification. If the savings account incurs an overdraft or debit, the customer agrees to repay the balance, including interest, following the bank’s established rates and practices. '}, {'chunk_id': 12, 'instruction': 'Summarize the text in the part12', 'input': ' OTP based e -\\nKYC mode. 20.I have no ted and understood the limitations of the Savings Account so opened \\nusing OTP based e -KYC including credit and debit restrictions and that the Savings Account \\nopened through OTP based e -KYC shal be closed immediately if physical completion of KYC \\nverification and/or customer due diligence is not completed because of any re ason \\nwhatsoever within one (1) year from the date of opening the Savings Account (Applicable if \\nVideo KYC process is not completed', 'output': 'Summary of the part12: Here’s a 50-word summary of the text:\\n\\nThis savings account was opened via OTP-based e-KYC with restrictions. It’s conditional: the account will be immediately closed within one year if full KYC verification or video KYC isn’t completed, ensuring compliance with regulations. '}, {'chunk_id': 13, 'instruction': 'Summarize the text in the part13', 'input': ' \\nInstaSave Salary Account opened basis specific corporate/ sourcing partner tie up). 22. \\nAadhaar Consent a. I hereby provide my voluntary consent  to ICICI Bank to use the Aadhaar \\ndetails provided by me for authentication and agree to the terms and conditions related to \\nAadhaar consent and updation. b. I am aware that there are various alternate options \\nprovided by ICICI Bank (“Bank”) for establishi ng my identity/address proof for opening a \\nSavings Account and agree and confirm that for o', 'output': 'Summary of the part13: Here’s a 50-word summary of the text:\\n\\nThe InstaSave Salary Account requires a corporate tie-up.  This agreement confirms the user’s voluntary consent for ICICI Bank to utilize Aadhaar details for authentication, aligning with terms & conditions. They acknowledge alternative identity proof options for opening a savings account. '}, {'chunk_id': 14, 'instruction': 'Summarize the text in the part14', 'input': 'hrough such other manner as set out by UIDAI or any other law from \\ntime to time; (i) share my Aadhaar detail with UIDAI, NPCI, concerned regulatory or statutory \\nauthorities as any be req uired under applicable laws. ( i) to colect, store and use the Aadhaar \\ndetails for the aforesaid purpose(s) and update my mobile number registered with UIDAI in \\nthe bank records for sending SMS alerts/other communications to me. c. I hereby also agree \\nwith  the below terms pertaining to Aadhaar based authen', 'output': 'Summary of the part14: Here’s a 50-word summary of the text:\\n\\nThe user agrees to share their Aadhaar details with UIDAI, NPCI, and regulatory authorities as required by law. They also consent to the collection, storage, and use of their details for specified purposes, including updating their mobile number for SMS alerts. '}, {'chunk_id': 15, 'instruction': 'Summarize the text in the part15', 'input': 'ion wil not be stored by the Bank. 2. I hereby declare that al the above \\ninformation voluntarily furnished by me is true, correct and complete in al respects. 3. I \\nunderstand that ICICI Bank shal be relying upon the informati on received from UIDAI for \\nprocessing my InstaSave Account opening formalities. 23.“I hereby authorize and consent to \\nICICI Bank to share or part with any/al information received from UIDAI such as my name, \\ndate of birth etc. with third party vendor(s) in order to faci', 'output': 'Summary of the part15: Here’s a 50-word summary of the text:\\n\\nThis document confirms the user’s agreement with ICICI Bank. They declare all information provided by UIDAI is truthful and authorizes the bank to utilize it for InstaSave account opening. The user consents to ICICI Bank sharing UIDAI data with third-party vendors. '}]\n"
     ]
    }
   ],
   "source": [
    "print(pdf_dataset.data)"
   ]
  },
  {
   "cell_type": "code",
   "execution_count": 27,
   "id": "4e992f75-f6be-489c-8727-de69c43c6e52",
   "metadata": {},
   "outputs": [
    {
     "name": "stderr",
     "output_type": "stream",
     "text": [
      "C:\\Users\\MAHESH\\anaconda3\\Lib\\site-packages\\torch\\utils\\data\\dataloader.py:666: UserWarning: 'pin_memory' argument is set as true but no accelerator is found, then device pinned memory won't be used.\n",
      "  warnings.warn(warn_msg)\n"
     ]
    },
    {
     "data": {
      "text/html": [
       "\n",
       "    <div>\n",
       "      \n",
       "      <progress value='8' max='8' style='width:300px; height:20px; vertical-align: middle;'></progress>\n",
       "      [8/8 01:42, Epoch 1/1]\n",
       "    </div>\n",
       "    <table border=\"1\" class=\"dataframe\">\n",
       "  <thead>\n",
       " <tr style=\"text-align: left;\">\n",
       "      <th>Step</th>\n",
       "      <th>Training Loss</th>\n",
       "    </tr>\n",
       "  </thead>\n",
       "  <tbody>\n",
       "    <tr>\n",
       "      <td>4</td>\n",
       "      <td>19.108900</td>\n",
       "    </tr>\n",
       "    <tr>\n",
       "      <td>8</td>\n",
       "      <td>19.390200</td>\n",
       "    </tr>\n",
       "  </tbody>\n",
       "</table><p>"
      ],
      "text/plain": [
       "<IPython.core.display.HTML object>"
      ]
     },
     "metadata": {},
     "output_type": "display_data"
    },
    {
     "name": "stdout",
     "output_type": "stream",
     "text": [
      "✅ Fine-tuning complete and model saved\n"
     ]
    }
   ],
   "source": [
    "from transformers import AutoModelForSeq2SeqLM, TrainingArguments, Trainer\n",
    "model = AutoModelForSeq2SeqLM.from_pretrained(\"google/flan-t5-small\")\n",
    "\n",
    "training_args = TrainingArguments(\n",
    "    output_dir=\"./GENAI_01P_finetuned-flan_model\",\n",
    "    per_device_train_batch_size=2,\n",
    "    num_train_epochs=1,\n",
    "    learning_rate=5e-5,\n",
    "    weight_decay=0.01,\n",
    "    logging_dir=\"./logs\",\n",
    "    save_strategy=\"epoch\",\n",
    "    logging_strategy=\"steps\",     # log by steps (not only by epoch)\n",
    "    logging_steps=4,  \n",
    ")\n",
    "\n",
    "trainer = Trainer(\n",
    "    model = model,\n",
    "    args = training_args,\n",
    "    train_dataset = pdf_dataset\n",
    ")\n",
    "\n",
    "trainer.train()\n",
    "\n",
    "#Save the fine_tuned model\n",
    "model.save_pretrained(\"./GENAI_01P_finetuned-flan_model\")\n",
    "tokenizer.save_pretrained(\"./GENAI_01P_finetuned-flan_model\")\n",
    "print(\"✅ Fine-tuning complete and model saved\")\n",
    "\n",
    "\n",
    "\n"
   ]
  },
  {
   "cell_type": "code",
   "execution_count": 29,
   "id": "66afaceb-c3f6-4eec-b934-119b5a0f9a35",
   "metadata": {},
   "outputs": [
    {
     "name": "stderr",
     "output_type": "stream",
     "text": [
      "Device set to use cpu\n"
     ]
    }
   ],
   "source": [
    "from transformers import pipeline\n",
    "qa = pipeline(\"text2text-generation\",model=\"./GENAI_01P_finetuned-flan_model\",tokenizer=\"./GENAI_01P_finetuned-flan_model\")"
   ]
  },
  {
   "cell_type": "code",
   "execution_count": 31,
   "id": "2f360be7-3f05-4f8f-bcff-e71e05e2bbb5",
   "metadata": {},
   "outputs": [
    {
     "name": "stderr",
     "output_type": "stream",
     "text": [
      "Both `max_new_tokens` (=256) and `max_length`(=128) seem to have been set. `max_new_tokens` will take precedence. Please refer to the documentation for more information. (https://huggingface.co/docs/transformers/main/en/main_classes/text_generation)\n"
     ]
    },
    {
     "name": "stdout",
     "output_type": "stream",
     "text": [
      "Artificial intelligence (AI) is a rapidly evolving field of computer science that focuses on the development of systems capable of performing tasks that typically require human intelligence.\n"
     ]
    }
   ],
   "source": [
    "document = \"\"\"\n",
    "Artificial intelligence (AI) is a rapidly evolving field of computer science\n",
    "that focuses on the development of systems capable of performing tasks that\n",
    "typically require human intelligence. These tasks include learning, reasoning,\n",
    "problem-solving, perception, and language understanding.\n",
    "\"\"\"\n",
    "\n",
    "# Combine document and instruction\n",
    "prompt = f\"{document}\\n\\nSummarize the above document in 3 bullet points.\"\n",
    "result = qa(prompt, max_length=128)\n",
    "print(result[0]['generated_text'])"
   ]
  },
  {
   "cell_type": "code",
   "execution_count": 33,
   "id": "5e75b81e-be99-43c1-a5de-4558c65214ad",
   "metadata": {},
   "outputs": [
    {
     "name": "stderr",
     "output_type": "stream",
     "text": [
      "Both `max_new_tokens` (=256) and `max_length`(=128) seem to have been set. `max_new_tokens` will take precedence. Please refer to the documentation for more information. (https://huggingface.co/docs/transformers/main/en/main_classes/text_generation)\n"
     ]
    },
    {
     "name": "stdout",
     "output_type": "stream",
     "text": [
      "Airplane crashes are rare, but when they happen, they remind us of the importance of strict safety rules in aviation.\n"
     ]
    }
   ],
   "source": [
    "document = \"\"\"\n",
    "Essay: The Airplane Crash on Sunday \n",
    "Last Sunday, an unfortunate airplane crash left many people in shock and sorrow. \n",
    "The aircraft, which was on a routine journey, suddenly met with trouble and could not land safely.\n",
    "Within moments, lives were lost, and families were left grieving. Rescue teams and medical staff immediately reached the spot to save survivors and control the situation. \n",
    "Airplane crashes are rare, but when they happen, they remind us of the importance of strict safety rules in aviation.\n",
    "Experts will now investigate the cause of this accident, which could be due to weather, a technical fault, or human error.\n",
    "Their findings will help improve air travel safety in the future. \n",
    "This tragic event also shows the courage of emergency workers who risk their lives to help others.\n",
    "While the accident brought sadness, it also reminds us that every lesson learned can save countless lives in the years to come. \n",
    "We must honor the victims by making air travel safer and more reliable. \n",
    "\"\"\"\n",
    "\n",
    "# Combine document and instruction\n",
    "prompt = f\"{document}\\n\\nSummarize the above document in 3 bullet points.\"\n",
    "result = qa(prompt, max_length=128)\n",
    "print(result[0]['generated_text'])"
   ]
  },
  {
   "cell_type": "code",
   "execution_count": 35,
   "id": "88ec2e38-875a-40cc-9f79-c0d892549ab0",
   "metadata": {},
   "outputs": [
    {
     "name": "stderr",
     "output_type": "stream",
     "text": [
      "Both `max_new_tokens` (=256) and `max_length`(=128) seem to have been set. `max_new_tokens` will take precedence. Please refer to the documentation for more information. (https://huggingface.co/docs/transformers/main/en/main_classes/text_generation)\n"
     ]
    },
    {
     "name": "stdout",
     "output_type": "stream",
     "text": [
      "Aman and Rahul watched the football match last night. Aman and Rahul are going to watch it live together.\n"
     ]
    }
   ],
   "source": [
    "docs = \"\"\"\n",
    "Rahul: Hey! Did you watch the football match last night?\n",
    "Aman: Of course! What a game it was. The last-minute goal was unbelievable.\n",
    "Rahul: I know, right? I thought it was going to end in a draw.\n",
    "Aman: Same here. But that free-kick completely changed the game.\n",
    "Rahul: The crowd went crazy. I wish we were there at the stadium.\n",
    "Aman: Next time, let’s get tickets and watch it live together.\n",
    "Rahul: Deal! It’ll be so much fun. \n",
    "\"\"\"\n",
    "prompt = f\"{docs}\\n\\nSummarize the above chat\"\n",
    "result = qa(prompt,max_length=128)\n",
    "print(result[0]['generated_text'])"
   ]
  },
  {
   "cell_type": "code",
   "execution_count": 37,
   "id": "31bfd7f4-bb1e-46be-81c7-06abc79e3c7b",
   "metadata": {},
   "outputs": [
    {
     "name": "stderr",
     "output_type": "stream",
     "text": [
      "Both `max_new_tokens` (=256) and `max_length`(=128) seem to have been set. `max_new_tokens` will take precedence. Please refer to the documentation for more information. (https://huggingface.co/docs/transformers/main/en/main_classes/text_generation)\n"
     ]
    },
    {
     "name": "stdout",
     "output_type": "stream",
     "text": [
      "NLTK provides tokenization at two levels: word level and sentence leve\n"
     ]
    }
   ],
   "source": [
    "new_docs = \"\"\"\n",
    "In Natural Language Processing, Tokenization is the process of breaking given text into individual words.\n",
    "Assuming that given document of text input contains paragraphs, it could broken down to sentences or words. NLTK provides tokenization at two levels: word level and sentence leve\n",
    "\"\"\"\n",
    "prompt = f\"{new_docs}\\n\\nSummarize the above chat\"\n",
    "result = qa(prompt,max_length=128)\n",
    "print(result[0]['generated_text'])"
   ]
  },
  {
   "cell_type": "code",
   "execution_count": 49,
   "id": "b0338e6e-7214-4734-aada-f92efb514357",
   "metadata": {},
   "outputs": [
    {
     "name": "stdout",
     "output_type": "stream",
     "text": [
      "Collecting gradio\n",
      "  Using cached gradio-5.47.2-py3-none-any.whl.metadata (16 kB)\n",
      "Collecting aiofiles<25.0,>=22.0 (from gradio)\n",
      "  Using cached aiofiles-24.1.0-py3-none-any.whl.metadata (10 kB)\n",
      "Requirement already satisfied: anyio<5.0,>=3.0 in c:\\users\\mahesh\\anaconda3\\lib\\site-packages (from gradio) (4.2.0)\n",
      "Collecting brotli>=1.1.0 (from gradio)\n",
      "  Downloading Brotli-1.1.0-cp312-cp312-win_amd64.whl.metadata (5.6 kB)\n",
      "Requirement already satisfied: fastapi<1.0,>=0.115.2 in c:\\users\\mahesh\\anaconda3\\lib\\site-packages (from gradio) (0.116.1)\n",
      "Collecting ffmpy (from gradio)\n",
      "  Using cached ffmpy-0.6.1-py3-none-any.whl.metadata (2.9 kB)\n",
      "Collecting gradio-client==1.13.3 (from gradio)\n",
      "  Using cached gradio_client-1.13.3-py3-none-any.whl.metadata (7.1 kB)\n",
      "Collecting groovy~=0.1 (from gradio)\n",
      "  Using cached groovy-0.1.2-py3-none-any.whl.metadata (6.1 kB)\n",
      "Requirement already satisfied: httpx<1.0,>=0.24.1 in c:\\users\\mahesh\\anaconda3\\lib\\site-packages (from gradio) (0.27.0)\n",
      "Requirement already satisfied: huggingface-hub<2.0,>=0.33.5 in c:\\users\\mahesh\\anaconda3\\lib\\site-packages (from gradio) (0.35.1)\n",
      "Requirement already satisfied: jinja2<4.0 in c:\\users\\mahesh\\anaconda3\\lib\\site-packages (from gradio) (3.1.4)\n",
      "Requirement already satisfied: markupsafe<4.0,>=2.0 in c:\\users\\mahesh\\anaconda3\\lib\\site-packages (from gradio) (2.1.3)\n",
      "Requirement already satisfied: numpy<3.0,>=1.0 in c:\\users\\mahesh\\anaconda3\\lib\\site-packages (from gradio) (1.26.4)\n",
      "Requirement already satisfied: orjson~=3.0 in c:\\users\\mahesh\\anaconda3\\lib\\site-packages (from gradio) (3.11.0)\n",
      "Requirement already satisfied: packaging in c:\\users\\mahesh\\anaconda3\\lib\\site-packages (from gradio) (24.1)\n",
      "Requirement already satisfied: pandas<3.0,>=1.0 in c:\\users\\mahesh\\anaconda3\\lib\\site-packages (from gradio) (2.2.2)\n",
      "Requirement already satisfied: pillow<12.0,>=8.0 in c:\\users\\mahesh\\anaconda3\\lib\\site-packages (from gradio) (10.4.0)\n",
      "Requirement already satisfied: pydantic<2.12,>=2.0 in c:\\users\\mahesh\\anaconda3\\lib\\site-packages (from gradio) (2.8.2)\n",
      "Collecting pydub (from gradio)\n",
      "  Using cached pydub-0.25.1-py2.py3-none-any.whl.metadata (1.4 kB)\n",
      "Requirement already satisfied: python-multipart>=0.0.18 in c:\\users\\mahesh\\anaconda3\\lib\\site-packages (from gradio) (0.0.20)\n",
      "Requirement already satisfied: pyyaml<7.0,>=5.0 in c:\\users\\mahesh\\anaconda3\\lib\\site-packages (from gradio) (6.0.1)\n",
      "Collecting ruff>=0.9.3 (from gradio)\n",
      "  Using cached ruff-0.13.2-py3-none-win_amd64.whl.metadata (26 kB)\n",
      "Collecting safehttpx<0.2.0,>=0.1.6 (from gradio)\n",
      "  Using cached safehttpx-0.1.6-py3-none-any.whl.metadata (4.2 kB)\n",
      "Collecting semantic-version~=2.0 (from gradio)\n",
      "  Using cached semantic_version-2.10.0-py2.py3-none-any.whl.metadata (9.7 kB)\n",
      "Requirement already satisfied: starlette<1.0,>=0.40.0 in c:\\users\\mahesh\\anaconda3\\lib\\site-packages (from gradio) (0.47.2)\n",
      "Collecting tomlkit<0.14.0,>=0.12.0 (from gradio)\n",
      "  Using cached tomlkit-0.13.3-py3-none-any.whl.metadata (2.8 kB)\n",
      "Collecting typer<1.0,>=0.12 (from gradio)\n",
      "  Using cached typer-0.19.2-py3-none-any.whl.metadata (16 kB)\n",
      "Requirement already satisfied: typing-extensions~=4.0 in c:\\users\\mahesh\\anaconda3\\lib\\site-packages (from gradio) (4.11.0)\n",
      "Requirement already satisfied: uvicorn>=0.14.0 in c:\\users\\mahesh\\anaconda3\\lib\\site-packages (from gradio) (0.35.0)\n",
      "Requirement already satisfied: fsspec in c:\\users\\mahesh\\anaconda3\\lib\\site-packages (from gradio-client==1.13.3->gradio) (2024.6.1)\n",
      "Collecting websockets<16.0,>=13.0 (from gradio-client==1.13.3->gradio)\n",
      "  Downloading websockets-15.0.1-cp312-cp312-win_amd64.whl.metadata (7.0 kB)\n",
      "Requirement already satisfied: idna>=2.8 in c:\\users\\mahesh\\anaconda3\\lib\\site-packages (from anyio<5.0,>=3.0->gradio) (3.7)\n",
      "Requirement already satisfied: sniffio>=1.1 in c:\\users\\mahesh\\anaconda3\\lib\\site-packages (from anyio<5.0,>=3.0->gradio) (1.3.0)\n",
      "Requirement already satisfied: certifi in c:\\users\\mahesh\\anaconda3\\lib\\site-packages (from httpx<1.0,>=0.24.1->gradio) (2025.6.15)\n",
      "Requirement already satisfied: httpcore==1.* in c:\\users\\mahesh\\anaconda3\\lib\\site-packages (from httpx<1.0,>=0.24.1->gradio) (1.0.2)\n",
      "Requirement already satisfied: h11<0.15,>=0.13 in c:\\users\\mahesh\\anaconda3\\lib\\site-packages (from httpcore==1.*->httpx<1.0,>=0.24.1->gradio) (0.14.0)\n",
      "Requirement already satisfied: filelock in c:\\users\\mahesh\\anaconda3\\lib\\site-packages (from huggingface-hub<2.0,>=0.33.5->gradio) (3.13.1)\n",
      "Requirement already satisfied: requests in c:\\users\\mahesh\\anaconda3\\lib\\site-packages (from huggingface-hub<2.0,>=0.33.5->gradio) (2.32.3)\n",
      "Requirement already satisfied: tqdm>=4.42.1 in c:\\users\\mahesh\\anaconda3\\lib\\site-packages (from huggingface-hub<2.0,>=0.33.5->gradio) (4.66.5)\n",
      "Requirement already satisfied: python-dateutil>=2.8.2 in c:\\users\\mahesh\\anaconda3\\lib\\site-packages (from pandas<3.0,>=1.0->gradio) (2.9.0.post0)\n",
      "Requirement already satisfied: pytz>=2020.1 in c:\\users\\mahesh\\anaconda3\\lib\\site-packages (from pandas<3.0,>=1.0->gradio) (2024.1)\n",
      "Requirement already satisfied: tzdata>=2022.7 in c:\\users\\mahesh\\anaconda3\\lib\\site-packages (from pandas<3.0,>=1.0->gradio) (2023.3)\n",
      "Requirement already satisfied: annotated-types>=0.4.0 in c:\\users\\mahesh\\anaconda3\\lib\\site-packages (from pydantic<2.12,>=2.0->gradio) (0.6.0)\n",
      "Requirement already satisfied: pydantic-core==2.20.1 in c:\\users\\mahesh\\anaconda3\\lib\\site-packages (from pydantic<2.12,>=2.0->gradio) (2.20.1)\n",
      "Requirement already satisfied: click>=8.0.0 in c:\\users\\mahesh\\anaconda3\\lib\\site-packages (from typer<1.0,>=0.12->gradio) (8.1.7)\n",
      "Requirement already satisfied: shellingham>=1.3.0 in c:\\users\\mahesh\\anaconda3\\lib\\site-packages (from typer<1.0,>=0.12->gradio) (1.5.0)\n",
      "Requirement already satisfied: rich>=10.11.0 in c:\\users\\mahesh\\anaconda3\\lib\\site-packages (from typer<1.0,>=0.12->gradio) (13.7.1)\n",
      "Requirement already satisfied: colorama in c:\\users\\mahesh\\anaconda3\\lib\\site-packages (from click>=8.0.0->typer<1.0,>=0.12->gradio) (0.4.6)\n",
      "Requirement already satisfied: six>=1.5 in c:\\users\\mahesh\\anaconda3\\lib\\site-packages (from python-dateutil>=2.8.2->pandas<3.0,>=1.0->gradio) (1.16.0)\n",
      "Requirement already satisfied: markdown-it-py>=2.2.0 in c:\\users\\mahesh\\anaconda3\\lib\\site-packages (from rich>=10.11.0->typer<1.0,>=0.12->gradio) (2.2.0)\n",
      "Requirement already satisfied: pygments<3.0.0,>=2.13.0 in c:\\users\\mahesh\\anaconda3\\lib\\site-packages (from rich>=10.11.0->typer<1.0,>=0.12->gradio) (2.15.1)\n",
      "Requirement already satisfied: mdurl~=0.1 in c:\\users\\mahesh\\anaconda3\\lib\\site-packages (from markdown-it-py>=2.2.0->rich>=10.11.0->typer<1.0,>=0.12->gradio) (0.1.0)\n",
      "Requirement already satisfied: charset-normalizer<4,>=2 in c:\\users\\mahesh\\anaconda3\\lib\\site-packages (from requests->huggingface-hub<2.0,>=0.33.5->gradio) (3.3.2)\n",
      "Requirement already satisfied: urllib3<3,>=1.21.1 in c:\\users\\mahesh\\anaconda3\\lib\\site-packages (from requests->huggingface-hub<2.0,>=0.33.5->gradio) (2.2.3)\n",
      "Using cached gradio-5.47.2-py3-none-any.whl (60.4 MB)\n",
      "Using cached gradio_client-1.13.3-py3-none-any.whl (325 kB)\n",
      "Using cached aiofiles-24.1.0-py3-none-any.whl (15 kB)\n",
      "Using cached groovy-0.1.2-py3-none-any.whl (14 kB)\n",
      "Using cached safehttpx-0.1.6-py3-none-any.whl (8.7 kB)\n",
      "Using cached semantic_version-2.10.0-py2.py3-none-any.whl (15 kB)\n",
      "Using cached tomlkit-0.13.3-py3-none-any.whl (38 kB)\n",
      "Using cached typer-0.19.2-py3-none-any.whl (46 kB)\n",
      "Downloading websockets-15.0.1-cp312-cp312-win_amd64.whl (176 kB)\n",
      "Downloading Brotli-1.1.0-cp312-cp312-win_amd64.whl (357 kB)\n",
      "Using cached ruff-0.13.2-py3-none-win_amd64.whl (13.3 MB)\n",
      "Using cached ffmpy-0.6.1-py3-none-any.whl (5.5 kB)\n",
      "Using cached pydub-0.25.1-py2.py3-none-any.whl (32 kB)\n",
      "Installing collected packages: pydub, brotli, websockets, tomlkit, semantic-version, ruff, groovy, ffmpy, aiofiles, typer, safehttpx, gradio-client, gradio\n",
      "\n",
      "  Attempting uninstall: brotli\n",
      "\n",
      "   --- ------------------------------------  1/13 [brotli]\n",
      "    Found existing installation: Brotli 1.0.9\n",
      "   --- ------------------------------------  1/13 [brotli]\n",
      "    Uninstalling Brotli-1.0.9:\n",
      "   --- ------------------------------------  1/13 [brotli]\n",
      "   --- ------------------------------------  1/13 [brotli]\n",
      "   --- ------------------------------------  1/13 [brotli]\n",
      "   --- ------------------------------------  1/13 [brotli]\n",
      "   --- ------------------------------------  1/13 [brotli]\n",
      "   --- ------------------------------------  1/13 [brotli]\n",
      "   --- ------------------------------------  1/13 [brotli]\n",
      "   --- ------------------------------------  1/13 [brotli]\n",
      "   --- ------------------------------------  1/13 [brotli]\n",
      "   --- ------------------------------------  1/13 [brotli]\n",
      "   --- ------------------------------------  1/13 [brotli]\n",
      "   --- ------------------------------------  1/13 [brotli]\n",
      "   --- ------------------------------------  1/13 [brotli]\n",
      "   --- ------------------------------------  1/13 [brotli]\n",
      "   --- ------------------------------------  1/13 [brotli]\n",
      "   --- ------------------------------------  1/13 [brotli]\n",
      "   --- ------------------------------------  1/13 [brotli]\n",
      "   --- ------------------------------------  1/13 [brotli]\n",
      "   --- ------------------------------------  1/13 [brotli]\n",
      "   --- ------------------------------------  1/13 [brotli]\n",
      "   --- ------------------------------------  1/13 [brotli]\n",
      "   --- ------------------------------------  1/13 [brotli]\n",
      "   --- ------------------------------------  1/13 [brotli]\n",
      "   --- ------------------------------------  1/13 [brotli]\n",
      "   --- ------------------------------------  1/13 [brotli]\n",
      "   --- ------------------------------------  1/13 [brotli]\n",
      "   --- ------------------------------------  1/13 [brotli]\n",
      "   --- ------------------------------------  1/13 [brotli]\n",
      "   --- ------------------------------------  1/13 [brotli]\n",
      "   --- ------------------------------------  1/13 [brotli]\n",
      "   --- ------------------------------------  1/13 [brotli]\n",
      "   --- ------------------------------------  1/13 [brotli]\n",
      "   --- ------------------------------------  1/13 [brotli]\n",
      "   --- ------------------------------------  1/13 [brotli]\n",
      "   --- ------------------------------------  1/13 [brotli]\n",
      "   --- ------------------------------------  1/13 [brotli]\n",
      "   --- ------------------------------------  1/13 [brotli]\n",
      "   --- ------------------------------------  1/13 [brotli]\n",
      "   --- ------------------------------------  1/13 [brotli]\n",
      "   --- ------------------------------------  1/13 [brotli]\n",
      "   --- ------------------------------------  1/13 [brotli]\n",
      "   --- ------------------------------------  1/13 [brotli]\n",
      "   --- ------------------------------------  1/13 [brotli]\n",
      "   --- ------------------------------------  1/13 [brotli]\n",
      "   --- ------------------------------------  1/13 [brotli]\n",
      "   --- ------------------------------------  1/13 [brotli]\n",
      "   --- ------------------------------------  1/13 [brotli]\n",
      "   --- ------------------------------------  1/13 [brotli]\n",
      "   --- ------------------------------------  1/13 [brotli]\n",
      "   --- ------------------------------------  1/13 [brotli]\n",
      "   --- ------------------------------------  1/13 [brotli]\n",
      "   --- ------------------------------------  1/13 [brotli]\n",
      "   --- ------------------------------------  1/13 [brotli]\n",
      "   --- ------------------------------------  1/13 [brotli]\n",
      "   --- ------------------------------------  1/13 [brotli]\n",
      "   --- ------------------------------------  1/13 [brotli]\n",
      "   --- ------------------------------------  1/13 [brotli]\n",
      "   --- ------------------------------------  1/13 [brotli]\n",
      "   --- ------------------------------------  1/13 [brotli]\n",
      "   --- ------------------------------------  1/13 [brotli]\n",
      "   --- ------------------------------------  1/13 [brotli]\n",
      "   --- ------------------------------------  1/13 [brotli]\n",
      "   --- ------------------------------------  1/13 [brotli]\n",
      "   --- ------------------------------------  1/13 [brotli]\n",
      "   --- ------------------------------------  1/13 [brotli]\n",
      "   --- ------------------------------------  1/13 [brotli]\n",
      "   --- ------------------------------------  1/13 [brotli]\n",
      "   --- ------------------------------------  1/13 [brotli]\n",
      "   --- ------------------------------------  1/13 [brotli]\n",
      "   --- ------------------------------------  1/13 [brotli]\n",
      "   --- ------------------------------------  1/13 [brotli]\n",
      "   --- ------------------------------------  1/13 [brotli]\n",
      "   --- ------------------------------------  1/13 [brotli]\n",
      "   --- ------------------------------------  1/13 [brotli]\n",
      "   --- ------------------------------------  1/13 [brotli]\n",
      "   --- ------------------------------------  1/13 [brotli]\n",
      "   --- ------------------------------------  1/13 [brotli]\n",
      "      Successfully uninstalled Brotli-1.0.9\n",
      "   --- ------------------------------------  1/13 [brotli]\n",
      "   ------ ---------------------------------  2/13 [websockets]\n",
      "   ------ ---------------------------------  2/13 [websockets]\n",
      "   ------ ---------------------------------  2/13 [websockets]\n",
      "  Attempting uninstall: tomlkit\n",
      "   ------ ---------------------------------  2/13 [websockets]\n",
      "   --------- ------------------------------  3/13 [tomlkit]\n",
      "    Found existing installation: tomlkit 0.11.1\n",
      "   --------- ------------------------------  3/13 [tomlkit]\n",
      "    Uninstalling tomlkit-0.11.1:\n",
      "   --------- ------------------------------  3/13 [tomlkit]\n",
      "      Successfully uninstalled tomlkit-0.11.1\n",
      "   --------- ------------------------------  3/13 [tomlkit]\n",
      "   --------- ------------------------------  3/13 [tomlkit]\n",
      "   --------------- ------------------------  5/13 [ruff]\n",
      "   --------------- ------------------------  5/13 [ruff]\n",
      "   --------------- ------------------------  5/13 [ruff]\n",
      "   --------------- ------------------------  5/13 [ruff]\n",
      "   ------------------------ ---------------  8/13 [aiofiles]\n",
      "  Attempting uninstall: typer\n",
      "   ------------------------ ---------------  8/13 [aiofiles]\n",
      "    Found existing installation: typer 0.9.0\n",
      "   ------------------------ ---------------  8/13 [aiofiles]\n",
      "   --------------------------- ------------  9/13 [typer]\n",
      "    Uninstalling typer-0.9.0:\n",
      "   --------------------------- ------------  9/13 [typer]\n",
      "      Successfully uninstalled typer-0.9.0\n",
      "   --------------------------- ------------  9/13 [typer]\n",
      "   --------------------------- ------------  9/13 [typer]\n",
      "   --------------------------------- ------ 11/13 [gradio-client]\n",
      "   --------------------------------- ------ 11/13 [gradio-client]\n",
      "   ------------------------------------ --- 12/13 [gradio]\n",
      "   ------------------------------------ --- 12/13 [gradio]\n",
      "   ------------------------------------ --- 12/13 [gradio]\n",
      "   ------------------------------------ --- 12/13 [gradio]\n",
      "   ------------------------------------ --- 12/13 [gradio]\n",
      "   ------------------------------------ --- 12/13 [gradio]\n",
      "   ------------------------------------ --- 12/13 [gradio]\n",
      "   ------------------------------------ --- 12/13 [gradio]\n",
      "   ------------------------------------ --- 12/13 [gradio]\n",
      "   ------------------------------------ --- 12/13 [gradio]\n",
      "   ------------------------------------ --- 12/13 [gradio]\n",
      "   ------------------------------------ --- 12/13 [gradio]\n",
      "   ------------------------------------ --- 12/13 [gradio]\n",
      "   ------------------------------------ --- 12/13 [gradio]\n",
      "   ------------------------------------ --- 12/13 [gradio]\n",
      "   ------------------------------------ --- 12/13 [gradio]\n",
      "   ------------------------------------ --- 12/13 [gradio]\n",
      "   ------------------------------------ --- 12/13 [gradio]\n",
      "   ------------------------------------ --- 12/13 [gradio]\n",
      "   ------------------------------------ --- 12/13 [gradio]\n",
      "   ------------------------------------ --- 12/13 [gradio]\n",
      "   ------------------------------------ --- 12/13 [gradio]\n",
      "   ------------------------------------ --- 12/13 [gradio]\n",
      "   ------------------------------------ --- 12/13 [gradio]\n",
      "   ------------------------------------ --- 12/13 [gradio]\n",
      "   ------------------------------------ --- 12/13 [gradio]\n",
      "   ------------------------------------ --- 12/13 [gradio]\n",
      "   ------------------------------------ --- 12/13 [gradio]\n",
      "   ------------------------------------ --- 12/13 [gradio]\n",
      "   ------------------------------------ --- 12/13 [gradio]\n",
      "   ------------------------------------ --- 12/13 [gradio]\n",
      "   ------------------------------------ --- 12/13 [gradio]\n",
      "   ------------------------------------ --- 12/13 [gradio]\n",
      "   ------------------------------------ --- 12/13 [gradio]\n",
      "   ------------------------------------ --- 12/13 [gradio]\n",
      "   ------------------------------------ --- 12/13 [gradio]\n",
      "   ------------------------------------ --- 12/13 [gradio]\n",
      "   ------------------------------------ --- 12/13 [gradio]\n",
      "   ------------------------------------ --- 12/13 [gradio]\n",
      "   ------------------------------------ --- 12/13 [gradio]\n",
      "   ------------------------------------ --- 12/13 [gradio]\n",
      "   ------------------------------------ --- 12/13 [gradio]\n",
      "   ------------------------------------ --- 12/13 [gradio]\n",
      "   ------------------------------------ --- 12/13 [gradio]\n",
      "   ------------------------------------ --- 12/13 [gradio]\n",
      "   ------------------------------------ --- 12/13 [gradio]\n",
      "   ------------------------------------ --- 12/13 [gradio]\n",
      "   ------------------------------------ --- 12/13 [gradio]\n",
      "   ------------------------------------ --- 12/13 [gradio]\n",
      "   ------------------------------------ --- 12/13 [gradio]\n",
      "   ------------------------------------ --- 12/13 [gradio]\n",
      "   ------------------------------------ --- 12/13 [gradio]\n",
      "   ------------------------------------ --- 12/13 [gradio]\n",
      "   ------------------------------------ --- 12/13 [gradio]\n",
      "   ------------------------------------ --- 12/13 [gradio]\n",
      "   ------------------------------------ --- 12/13 [gradio]\n",
      "   ------------------------------------ --- 12/13 [gradio]\n",
      "   ------------------------------------ --- 12/13 [gradio]\n",
      "   ------------------------------------ --- 12/13 [gradio]\n",
      "   ------------------------------------ --- 12/13 [gradio]\n",
      "   ------------------------------------ --- 12/13 [gradio]\n",
      "   ------------------------------------ --- 12/13 [gradio]\n",
      "   ------------------------------------ --- 12/13 [gradio]\n",
      "   ------------------------------------ --- 12/13 [gradio]\n",
      "   ------------------------------------ --- 12/13 [gradio]\n",
      "   ------------------------------------ --- 12/13 [gradio]\n",
      "   ------------------------------------ --- 12/13 [gradio]\n",
      "   ------------------------------------ --- 12/13 [gradio]\n",
      "   ------------------------------------ --- 12/13 [gradio]\n",
      "   ------------------------------------ --- 12/13 [gradio]\n",
      "   ---------------------------------------- 13/13 [gradio]\n",
      "\n",
      "Successfully installed aiofiles-24.1.0 brotli-1.1.0 ffmpy-0.6.1 gradio-5.47.2 gradio-client-1.13.3 groovy-0.1.2 pydub-0.25.1 ruff-0.13.2 safehttpx-0.1.6 semantic-version-2.10.0 tomlkit-0.13.3 typer-0.19.2 websockets-15.0.1\n",
      "Note: you may need to restart the kernel to use updated packages.\n"
     ]
    },
    {
     "name": "stderr",
     "output_type": "stream",
     "text": [
      "WARNING: Ignoring invalid distribution ~ip (C:\\Users\\MAHESH\\anaconda3\\Lib\\site-packages)\n",
      "WARNING: Ignoring invalid distribution ~ip (C:\\Users\\MAHESH\\anaconda3\\Lib\\site-packages)\n",
      "WARNING: Ignoring invalid distribution ~ip (C:\\Users\\MAHESH\\anaconda3\\Lib\\site-packages)\n"
     ]
    }
   ],
   "source": [
    "pip install gradio"
   ]
  },
  {
   "cell_type": "code",
   "execution_count": 53,
   "id": "19741e78-fc26-495f-888c-998fef0b0031",
   "metadata": {},
   "outputs": [
    {
     "name": "stderr",
     "output_type": "stream",
     "text": [
      "Device set to use cpu\n"
     ]
    },
    {
     "name": "stdout",
     "output_type": "stream",
     "text": [
      "* Running on local URL:  http://127.0.0.1:7860\n",
      "* To create a public link, set `share=True` in `launch()`.\n"
     ]
    },
    {
     "data": {
      "text/html": [
       "<div><iframe src=\"http://127.0.0.1:7860/\" width=\"100%\" height=\"500\" allow=\"autoplay; camera; microphone; clipboard-read; clipboard-write;\" frameborder=\"0\" allowfullscreen></iframe></div>"
      ],
      "text/plain": [
       "<IPython.core.display.HTML object>"
      ]
     },
     "metadata": {},
     "output_type": "display_data"
    },
    {
     "data": {
      "text/plain": []
     },
     "execution_count": 53,
     "metadata": {},
     "output_type": "execute_result"
    }
   ],
   "source": [
    "import gradio as gr\n",
    "from PyPDF2 import PdfReader\n",
    "from transformers import AutoTokenizer, AutoModelForSeq2SeqLM, pipeline\n",
    "\n",
    "model_name = \"google/flan-t5-base\"\n",
    "tokenizer = AutoTokenizer.from_pretrained(model_name)\n",
    "model = AutoModelForSeq2SeqLM.from_pretrained(model_name)\n",
    "\n",
    "qa_pipeline = pipeline(\"text2text-generation\", model=model, tokenizer=tokenizer)\n",
    "\n",
    "\n",
    "def chunk_pdf_text(pdf_path, chunk_size=400, max_chunks=10):\n",
    "    reader = PdfReader(pdf_path)\n",
    "    pdf_text = \"\"\n",
    "    for page in reader.pages:\n",
    "        text = page.extract_text()\n",
    "        if text:\n",
    "            pdf_text += text + \"\\n\"\n",
    "    chunks = [pdf_text[i:i+chunk_size] for i in range(0, len(pdf_text), chunk_size)]\n",
    "    return chunks[:max_chunks]\n",
    "\n",
    "\n",
    "def summarize_pdf(file):\n",
    "    chunks = chunk_pdf_text(file.name)\n",
    "    summaries = []\n",
    "    for i, chunk in enumerate(chunks):\n",
    "        prompt = f\"Summarize this section (chunk {i+1}): {chunk}\"\n",
    "        result = qa_pipeline(prompt, max_new_tokens=100)[0]['generated_text']\n",
    "        summaries.append(f\"Chunk {i+1} summary: {result}\")\n",
    "    return \"\\n\\n\".join(summaries)\n",
    "\n",
    "\n",
    "iface = gr.Interface(\n",
    "    fn=summarize_pdf,\n",
    "    inputs=gr.File(file_types=[\".pdf\"]),\n",
    "    outputs=gr.Textbox(lines=20, placeholder=\"PDF summaries will appear here...\"),\n",
    "    title=\"PDF Summarizer\",\n",
    "    description=\"Upload a PDF, the model will summarize each chunk of the document.\"\n",
    ")\n",
    "\n",
    "\n",
    "iface.launch()"
   ]
  },
  {
   "cell_type": "code",
   "execution_count": null,
   "id": "89e55995-435f-4104-a319-b1ff662e3cde",
   "metadata": {},
   "outputs": [],
   "source": []
  }
 ],
 "metadata": {
  "kernelspec": {
   "display_name": "Python [conda env:base] *",
   "language": "python",
   "name": "conda-base-py"
  },
  "language_info": {
   "codemirror_mode": {
    "name": "ipython",
    "version": 3
   },
   "file_extension": ".py",
   "mimetype": "text/x-python",
   "name": "python",
   "nbconvert_exporter": "python",
   "pygments_lexer": "ipython3",
   "version": "3.12.7"
  }
 },
 "nbformat": 4,
 "nbformat_minor": 5
}
